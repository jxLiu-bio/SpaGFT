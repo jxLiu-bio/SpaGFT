{
 "cells": [
  {
   "attachments": {},
   "cell_type": "markdown",
   "metadata": {},
   "source": [
    "## Machine Learning Model Improvement"
   ]
  },
  {
   "attachments": {},
   "cell_type": "markdown",
   "metadata": {},
   "source": [
    "In this case, we will show the applications of SpaGFT into machine learning model improvement.\n",
    "### Outline\n",
    "1. SpaGCN Improvement\n",
    "<br />\n",
    "<br />\n",
    "2. TACCO Improvement\n",
    "<br />\n",
    "<br />\n",
    "3. Tangram Improvement\n",
    "<br />\n",
    "<br />\n",
    "4. CAMPA Improvement\n",
    "<br />\n",
    "<br />\n",
    "<br />\n",
    "These implementations demonstrate the integration of SpaGFT into existing computational methods, enhancing their performance in their focusing, like analyzing spatial transcriptomics and subcellular organelle data. Each section of this guide focuses on a different framework, outlining the specific steps and methodologies employed to integrate SpaGFT. The guide is structured as follows:"
   ]
  },
  {
   "attachments": {},
   "cell_type": "markdown",
   "metadata": {},
   "source": [
    "### 1. SpaGCN Improvement"
   ]
  },
  {
   "cell_type": "markdown",
   "metadata": {},
   "source": [
    "![](../images/SpaGCN.png)\n",
    "<br />\n",
    "- Regarding the modified workflow of SpaGCN, we changed the original input of SpaGCN.  In addition to the spatial expression matrix with rows representing spots and columns representing cells, we compute the spot-spot similarity and apply SpaGFT to form a spot-by-FC matrix. This can be interpreted as project spot-spot similarity in the frequency domain. Following this, we concatenated the original expression matrix and the spot by FC matrix to generate a new input matrix. This newly formed matrix was then placed into the frozen SpaGCN model for computation. The top 5 performance-increased samples are distinctly showcased, where the y-axis is the ARI value, and the x-axis is the sample number.\n",
    "- More details can be found at [GitHub](https://github.com/jxLiu-bio/SpaGFTModifiedSpaGCN) of SpaGFT-modified SpaGCN"
   ]
  },
  {
   "attachments": {},
   "cell_type": "markdown",
   "metadata": {},
   "source": [
    "### 2. TACCO Improvement"
   ]
  },
  {
   "cell_type": "markdown",
   "metadata": {},
   "source": [
    "![](../images/TACCO.png)\n",
    "<br />\n",
    "- Regarding the modified workflow of TACCO, we made modifications to the cost matrix in optimal transport. Originally, the cost matrix was calculated using genes as features to measure the cosine similarity between CT and spots, thereby measuring the distance from cell to spot. In the new cost matrix calculation method, we use weighted FCs as the feature to calculate the distance between CT and spots and then optimize the baseline mapping matrix (e.g., TACCO output). In the evaluation, we refer to TACCO methods to simulate spots with different bead sizes using scRNA-seq data and use L2 error to measure differences between predicted and known cell composition in each simulated spot. The y-axis is the bead size for a simulation data value, and the x-axis is the L2 error. \n",
    "- More details can be found at [GitHub](https://github.com/jiangyi01/SpaGFTModifiedTACCO) of SpaGFT-modified TACCO"
   ]
  },
  {
   "attachments": {},
   "cell_type": "markdown",
   "metadata": {},
   "source": [
    "### 3. Tangram Improvement"
   ]
  },
  {
   "cell_type": "markdown",
   "metadata": {},
   "source": [
    "![](../images/Tangram.png)\n",
    "<br />\n",
    "- Regarding the modified workflow of Tangram, we have added two additional constraint terms to the original objective function of Tangram. The first constraint is designed from a gene-centric perspective, calculating the cosine similarity of the gene by FC matrix between the reconstructed and the original matrix. The second constraint is designed from a cell-centric perspective, calculating the cosine similarity on the spot by the FC matrix between the reconstructed and the original matrix. In the evaluation, we first refer to the previous studies' method to simulate spatial gene expression data using different window sizes based on STARmap data. Subsequently, we measure the similarity between predicted and known cell proportions in each simulated spot using the Pearson correlation coefficient\n",
    "- More details can be found at [GitHub](https://github.com/jxLiu-bio/SpaGFTModifiedTangram) of SpaGFT-modified Tangram\n"
   ]
  },
  {
   "attachments": {},
   "cell_type": "markdown",
   "metadata": {},
   "source": [
    "### 4. CAMPA Improvement"
   ]
  },
  {
   "cell_type": "markdown",
   "metadata": {},
   "source": [
    "![](../images/CAMPA.png)\n",
    "<br />\n",
    "- Regarding the modified workflow of CAMPA, we have made a modification to the original loss function. The modified term aims to measure the spreading of graph signals in the reconstructed image. In the frequency domain, this spreading can be quantified using spreading entropy. A spreading graph signal corresponds to high entropy, while a non-spread graph signal corresponds to low entropy. Therefore, the new regularizer term aims to minimize the spreading entropy. In the evaluation, we use the validation loss, which was calculated using the same loss function and validation dataset to examine the contribution of the spreading entropy to the model training. The y-axis is the validation loss value, and the x-axis is the number of epochs for training the CAMPA model\n",
    "- More details can be found at [GitHub](https://github.com/jiangyi01/SpaGFTModifiedCAMPA) of SpaGFT-modified CAMPA"
   ]
  }
 ],
 "metadata": {
  "kernelspec": {
   "display_name": "spagft_env",
   "language": "python",
   "name": "python3"
  },
  "language_info": {
   "codemirror_mode": {
    "name": "ipython",
    "version": 3
   },
   "file_extension": ".py",
   "mimetype": "text/x-python",
   "name": "python",
   "nbconvert_exporter": "python",
   "pygments_lexer": "ipython3",
   "version": "3.8.0"
  }
 },
 "nbformat": 4,
 "nbformat_minor": 4
}
